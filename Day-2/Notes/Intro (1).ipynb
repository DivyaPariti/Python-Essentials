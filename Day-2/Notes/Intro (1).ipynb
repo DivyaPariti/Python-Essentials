{
 "cells": [
  {
   "cell_type": "markdown",
   "metadata": {},
   "source": [
    "# LIST"
   ]
  },
  {
   "cell_type": "code",
   "execution_count": null,
   "metadata": {},
   "outputs": [],
   "source": [
    "List: It is a complex data type that is derived from LIST obejct. There are some default functions in the List function. They are:\n",
    "1. append() - adds at the end of the list\n",
    "2. clear()\n",
    "3. copy()\n",
    "4. count()\n",
    "5. extend()\n",
    "6. index()\n",
    "7. insert()\n",
    "8. pop()\n",
    "9. remove()\n",
    "10. reverse()"
   ]
  },
  {
   "cell_type": "markdown",
   "metadata": {},
   "source": [
    "# DICTIONARY"
   ]
  },
  {
   "cell_type": "code",
   "execution_count": null,
   "metadata": {},
   "outputs": [],
   "source": [
    "Dictionary: It is a key-value pair. Data is stored in the following way.\n",
    "{\"key\":\"value\"}. The default functions that come with the dictionary function are:\n",
    "1. clear()\n",
    "2. copy()\n",
    "3. fromkeys()\n",
    "4. get()\n",
    "5. items()\n",
    "6. keys()\n",
    "7. pop()\n",
    "8. popitem()\n",
    "9. setdefault()\n",
    "10. update()\n",
    "-> to add an element to the dictionary you can add by:\n",
    "dit[\"varname\"] = \"value\""
   ]
  },
  {
   "cell_type": "markdown",
   "metadata": {},
   "source": [
    "# SETS"
   ]
  },
  {
   "cell_type": "code",
   "execution_count": null,
   "metadata": {},
   "outputs": [],
   "source": [
    "Sets: They are the class in Python whose object can be derived and, are used for storing values in Python.\n",
    "The default functions that come with the set function are:\n",
    "1. add()\n",
    "2. clear()\n",
    "3. copy()\n",
    "4. difference()\n",
    "5. difference_update()\n",
    "6. discard()\n",
    "7. intersection()\n",
    "8. intersection_update()\n",
    "9. isdisjoint()\n",
    "10. issubset()"
   ]
  },
  {
   "cell_type": "raw",
   "metadata": {},
   "source": [
    "\n",
    "**** dict and set are classes in Python.****"
   ]
  },
  {
   "cell_type": "markdown",
   "metadata": {},
   "source": [
    "# TUPLES"
   ]
  },
  {
   "cell_type": "code",
   "execution_count": null,
   "metadata": {},
   "outputs": [],
   "source": [
    "Tuples: They are the ordered and immutable collection of objects in Python.once the data is written it can't be changed in tuples. "
   ]
  },
  {
   "cell_type": "markdown",
   "metadata": {},
   "source": [
    "# BOOLEAN"
   ]
  },
  {
   "cell_type": "code",
   "execution_count": null,
   "metadata": {},
   "outputs": [],
   "source": [
    "Boolean: This basic data type which stores values in TRUE or FALSE."
   ]
  }
 ],
 "metadata": {
  "kernelspec": {
   "display_name": "Python 3",
   "language": "python",
   "name": "python3"
  },
  "language_info": {
   "codemirror_mode": {
    "name": "ipython",
    "version": 3
   },
   "file_extension": ".py",
   "mimetype": "text/x-python",
   "name": "python",
   "nbconvert_exporter": "python",
   "pygments_lexer": "ipython3",
   "version": "3.8.3"
  }
 },
 "nbformat": 4,
 "nbformat_minor": 4
}
