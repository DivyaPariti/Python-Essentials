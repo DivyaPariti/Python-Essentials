{
 "cells": [
  {
   "cell_type": "markdown",
   "metadata": {},
   "source": [
    "# DAY- 3"
   ]
  },
  {
   "cell_type": "code",
   "execution_count": 9,
   "metadata": {},
   "outputs": [
    {
     "name": "stdout",
     "output_type": "stream",
     "text": [
      "Enter the Altitude: 3500\n",
      "Come Down to 1000ft\n"
     ]
    }
   ],
   "source": [
    "## Python Program to print the Altitude for safe landing of the Plane\n",
    "\n",
    "alt = int(input(\"Enter the Altitude: \"))\n",
    "if (alt<=1000):\n",
    "    print(\"Safe to Land\")\n",
    "elif (alt > 1000 and alt <= 5000):\n",
    "    print(\"Come Down to 1000ft\")\n",
    "else:\n",
    "    print(\"Turn Around\")\n",
    "    "
   ]
  },
  {
   "cell_type": "code",
   "execution_count": 10,
   "metadata": {},
   "outputs": [
    {
     "name": "stdout",
     "output_type": "stream",
     "text": [
      "Enter the Altitude: 1000\n",
      "Safe to Land\n"
     ]
    }
   ],
   "source": [
    "## Python Program to print the Altitude for safe landing of the Plane\n",
    "\n",
    "alt = int(input(\"Enter the Altitude: \"))\n",
    "if (alt<=1000):\n",
    "    print(\"Safe to Land\")\n",
    "elif (alt > 1000 and alt <= 5000):\n",
    "    print(\"Come Down to 1000ft\")\n",
    "else:\n",
    "    print(\"Turn Around\")"
   ]
  },
  {
   "cell_type": "code",
   "execution_count": 11,
   "metadata": {},
   "outputs": [
    {
     "name": "stdout",
     "output_type": "stream",
     "text": [
      "Enter the Altitude: 6500\n",
      "Turn Around\n"
     ]
    }
   ],
   "source": [
    "## Python Program to print the Altitude for safe landing of the Plane\n",
    "\n",
    "alt = int(input(\"Enter the Altitude: \"))\n",
    "if (alt<=1000):\n",
    "    print(\"Safe to Land\")\n",
    "elif (alt > 1000 and alt <= 5000):\n",
    "    print(\"Come Down to 1000ft\")\n",
    "else:\n",
    "    print(\"Turn Around\")"
   ]
  },
  {
   "cell_type": "code",
   "execution_count": null,
   "metadata": {},
   "outputs": [],
   "source": []
  }
 ],
 "metadata": {
  "kernelspec": {
   "display_name": "Python 3",
   "language": "python",
   "name": "python3"
  },
  "language_info": {
   "codemirror_mode": {
    "name": "ipython",
    "version": 3
   },
   "file_extension": ".py",
   "mimetype": "text/x-python",
   "name": "python",
   "nbconvert_exporter": "python",
   "pygments_lexer": "ipython3",
   "version": "3.8.3"
  },
  "widgets": {
   "application/vnd.jupyter.widget-state+json": {
    "state": {},
    "version_major": 2,
    "version_minor": 0
   }
  }
 },
 "nbformat": 4,
 "nbformat_minor": 4
}
